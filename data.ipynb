{
 "cells": [
  {
   "cell_type": "code",
   "execution_count": null,
   "metadata": {},
   "outputs": [],
   "source": [
    "from DBData import DBData\n",
    "import os\n",
    "import openai"
   ]
  },
  {
   "cell_type": "code",
   "execution_count": null,
   "metadata": {},
   "outputs": [],
   "source": [
    "openai.api_key = os.environ.get('API_KEY')"
   ]
  },
  {
   "cell_type": "code",
   "execution_count": null,
   "metadata": {},
   "outputs": [],
   "source": [
    "df = DBData.getData()\n",
    "df.head()"
   ]
  },
  {
   "cell_type": "code",
   "execution_count": null,
   "metadata": {},
   "outputs": [],
   "source": [
    "df.describe(include= 'object' )"
   ]
  },
  {
   "cell_type": "code",
   "execution_count": null,
   "metadata": {},
   "outputs": [],
   "source": [
    "df.question = df.question.apply(lambda x: x.replace('\\n', ''))\n",
    "df.answer = df.answer.apply(lambda x: x.replace('\\n', ''))"
   ]
  },
  {
   "cell_type": "code",
   "execution_count": null,
   "metadata": {},
   "outputs": [],
   "source": [
    "def getChatCompletion(message):    \n",
    "    completion = openai.ChatCompletion.create(\n",
    "        model=\"gpt-3.5-turbo\", \n",
    "        messages = [\n",
    "            {\"role\": \"system\", \"content\" : \"You are an AI who checks the given message is a valid question. The output should be in one word, Yes or No.\"},\n",
    "            {\"role\": \"user\", \"content\" : message},\n",
    "            {\"role\": \"system\", \"content\" : \"If yes then reply with a proper answer and explanation else reply in one word.\"}\n",
    "            ]\n",
    "        )\n",
    "    # print(f'{message}: {completion.choices[0].message.content}')\n",
    "    return completion.choices[0].message.content"
   ]
  },
  {
   "cell_type": "code",
   "execution_count": null,
   "metadata": {},
   "outputs": [],
   "source": [
    "def getOpenAI(x):\n",
    "    # print(x)\n",
    "    x = getChatCompletion(x)\n",
    "    if len(x) > 3:\n",
    "        val = x.split('.', 1)[0]\n",
    "        ans = x.split('.', 1)[1]\n",
    "        return val, ans\n",
    "    else:\n",
    "        val = x.split('.', 1)[0]\n",
    "        ans = 'NA'\n",
    "        return val, ans"
   ]
  },
  {
   "cell_type": "code",
   "execution_count": null,
   "metadata": {},
   "outputs": [],
   "source": [
    "df['test'] = df.question.apply(lambda x: getOpenAI(x))"
   ]
  }
 ],
 "metadata": {
  "kernelspec": {
   "display_name": "Python 3",
   "language": "python",
   "name": "python3"
  },
  "language_info": {
   "codemirror_mode": {
    "name": "ipython",
    "version": 3
   },
   "file_extension": ".py",
   "mimetype": "text/x-python",
   "name": "python",
   "nbconvert_exporter": "python",
   "pygments_lexer": "ipython3",
   "version": "3.10.7"
  },
  "orig_nbformat": 4,
  "vscode": {
   "interpreter": {
    "hash": "62cc4af59e6bd328b791dacb1ac27a3cc69f324fd963f2a0b9ae9b1864c6832f"
   }
  }
 },
 "nbformat": 4,
 "nbformat_minor": 2
}
